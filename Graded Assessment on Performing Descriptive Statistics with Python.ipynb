{
 "cells": [
  {
   "cell_type": "markdown",
   "id": "1af583fa",
   "metadata": {},
   "source": [
    "# Section 1"
   ]
  },
  {
   "cell_type": "markdown",
   "id": "635ba642",
   "metadata": {},
   "source": [
    "# 1. A statistics test was conducted for 10 learners in a class. The mean of their score is 85 and the variance of the score is zero. What can you interpret about the score obtained by all learners?"
   ]
  },
  {
   "cell_type": "markdown",
   "id": "8b944cab",
   "metadata": {},
   "source": [
    "The mean score of the statistics test for 10 learners is 85 and the variance is zero, \n",
    "it implies that all learners scored exactly 85."
   ]
  },
  {
   "cell_type": "markdown",
   "id": "ba0304de",
   "metadata": {},
   "source": [
    "# 2. In a residential locality, the mean size of the house is 2224 square feet and the median value of the house is 1500 square feet. What can you interpret about the skewness in the distribution ofhouse size? Are there bigger or smaller houses in the residential locality?"
   ]
  },
  {
   "cell_type": "markdown",
   "id": "d2c54431",
   "metadata": {},
   "source": [
    "Mean size of the house:- 2224.sq\n",
    "Median value of the house:- 1500.sq\n",
    "    \n",
    "When the Mean is greater than Median the distribution is typically right skewed\n",
    "In right skewed distribution that are outliers that pull mean right to the median\n",
    "\n",
    "so, there is bigger house in the residential locality.\n"
   ]
  },
  {
   "cell_type": "markdown",
   "id": "37ae4a4b",
   "metadata": {},
   "source": [
    "# 3. The following table shows the mean and variance of the expenditure for two groups of people.You want to compare the variability in expenditure for both groups with respect to their mean. Which statistical measure would you use to evaluate the variability in expenditure? Please provide an explanation for your answer."
   ]
  },
  {
   "cell_type": "markdown",
   "id": "3bf43e73",
   "metadata": {},
   "source": [
    "To compare the variability in expenditure for both groups with respect to their mean use the coefficient of variable. \n",
    "the Coefficient of Variable is standarized measured of dispersion of Freqency Distribution\n",
    "\n",
    "Formula of Coefficient of Variable(CV):-   CV = (Standared Deviation / Mean) * 100\n",
    "    \n",
    "Group 1 :- Mean = $500000\n",
    "           Standared Deviation = $125000\n",
    "        \n",
    "           CV = (125000/500000)*100 = 25%\n",
    "            \n",
    "Group 2 :- Mean = $40000\n",
    "           Standared Deviation = $10000\n",
    "        \n",
    "          CV = (10000/40000)*100 = 25%\n",
    "            \n",
    "Both Group I and Group II have the same Coefficient of Variation of 25%.\n",
    "This means that the relative variability in expenditure, considering their respective means, is the same for both groups.            "
   ]
  },
  {
   "cell_type": "markdown",
   "id": "d470e1d2",
   "metadata": {},
   "source": [
    "# 4.During the survey, the ages of 80 patients infected by COVID and admitted to one of the city hospitals were recorded and the collected data is represented in the less than cumulative frequency distribution table.\n",
    "\n"
   ]
  },
  {
   "cell_type": "markdown",
   "id": "796bdf51",
   "metadata": {},
   "source": [
    "a. Which class interval has the highest frequency?\n",
    "\n",
    "Ans:- The class interval with the highest frequency is 35-45 with 23 patients.\n",
    "    \n",
    "    \n",
    "    \n",
    "b. Which age was affected the least?   \n",
    "\n",
    "Ans:- The age group 55-65 was affected the least, with 5 patients.\n",
    "    \n",
    "    \n",
    "    \n",
    "c. How many patients aged 45 years and above were admitted?\n",
    "\n",
    "Ans:- find the number of patients aged 45 years and above, sum the frequencies of the intervals 45-55 and 55-65\n",
    "      the sum is   14 + 5 = 19 \n",
    "    therfore 19 patients aged 45 years and above were admitted\n",
    "    \n",
    "    \n",
    "    \n",
    "d. Which is the modal class interval in the above dataset\n",
    "\n",
    "Ans:-The modal class interval is the interval with the highest frequency. Thus, the modal class interval is 35-45.\n",
    "    \n",
    "    \n",
    "    \n",
    "e. What is the median class interval of age?\n",
    "\n",
    "Ans:- To find the median class interval, first determine the median position. For 80 patients, the median position is:\n",
    "\n",
    "                  80+1/2=40.5\n",
    "            \n",
    "Next, construct the cumulative frequency distribution:\n",
    "\n",
    "Age (in years)\tNo. of Patients\tCumulative Frequency\n",
    "5 - 15   6   6\n",
    "15 - 25\t11\t17\n",
    "25 - 35\t21\t38\n",
    "35 - 45\t23\t61\n",
    "45 - 55\t14\t75\n",
    "55 - 65\t5\t80\n",
    "The cumulative frequency just greater than 40.5 is 61, which falls in the interval 35-45.\n",
    "\n",
    "Therefore, the median class interval of age is 35-45."
   ]
  },
  {
   "cell_type": "markdown",
   "id": "5d46f558",
   "metadata": {},
   "source": [
    "# 5.Assume you are the trader and you have invested over the years, and you are worried about the average return on investment. What average method would you use to compute the average return for the data given below?"
   ]
  },
  {
   "cell_type": "markdown",
   "id": "ed0f7570",
   "metadata": {},
   "source": [
    "To evaluate the average return on investment (ROI) over multiple years, you should use the Geometric Mean rather than the Arithmetic Mean. \n",
    "The Geometric Mean is better suited for calculating the average return over time, particularly when returns are compounded.\n",
    "\n",
    "Convert the Percentage Returns to Decimal Form:\n",
    " \n",
    "                36%  = 1+0.36 = 1.36\n",
    "                23%  = 1+0.23 = 1.23\n",
    "                -48% = 1−0.48 = 0.52\n",
    "                -30% = 1−0.30 = 0.70\n",
    "                15%  = 1+0.15 = 1.15\n",
    "                31%  = 1+0.31 = 1.31\n",
    "Calculate the Product of these Values:\n",
    "\n",
    "        1.36 * 1.23 * 0.52 * 0.70 * 1.15 * 1.31\n",
    "\n",
    "        Subtract 1 to Convert Back to Percentage:\n",
    "\n",
    "The formula for the Geometric Mean Return is:\n",
    "\n",
    "         Geometric Mean = (∏𝑖=1𝑁(1+𝑟𝑖))1𝑁−1\n",
    "        \n",
    "The calculated geometric mean return is approximately =  −1.43%.\n",
    "\n",
    "The negative geometric mean return indicates that, on average, the investment has decreased over the given period. "
   ]
  },
  {
   "cell_type": "markdown",
   "id": "b182ea7b",
   "metadata": {},
   "source": [
    "# 6. Suppose you have been told to measure the average height of all the males on the earth. What would be your strategy for the    same? Would the average height be a parameter or a statistic? Justify your answer."
   ]
  },
  {
   "cell_type": "markdown",
   "id": "0dc1963a",
   "metadata": {},
   "source": [
    "Sampling:  Since measuring every male on Earth is impractical, select a representative sample from various regions, \n",
    "            considering factors like age, ethnicity, and geographical location to ensure diversity.\n",
    "        \n",
    "Data Collection: Measure the heights of males in sample. This could involve direct measurements or \n",
    "                 using existing data from reliable sources.\n",
    "\n",
    "Calculate the Average: Compute the average height from sample data.\n",
    "    \n",
    "Validation: Cross-check your results with other studies or data sources to ensure accuracy.\n",
    "    \n",
    "Average Height: Parameter or Statistic?\n",
    "\n",
    "Statistic: The average height calculate from sample is a statistic. This is because it is an estimate derived from \n",
    "           a sample of the population, not the entire population.\n",
    "\n",
    "Parameter: The true average height of all males on Earth is a parameter. It represents a fixed value that describes \n",
    "            the entire population but is typically unknown and difficult to measure directly.\n",
    "\n",
    "Therefor, the average height calculated from your sample is a statistic, while the actual average height of \n",
    "          all males on Earth is the parameter"
   ]
  },
  {
   "cell_type": "markdown",
   "id": "c9705787",
   "metadata": {},
   "source": [
    "# 7. Calculate the z score of the following numbers:\n",
    "\n",
    "       X = [4.5,6.2,7.3,9.1,10.4,11]"
   ]
  },
  {
   "cell_type": "code",
   "execution_count": 2,
   "id": "911c2dd3",
   "metadata": {},
   "outputs": [
    {
     "data": {
      "text/plain": [
       "(8.083333333333334,\n",
       " 2.3060909686210462,\n",
       " [-1.553856019598407,\n",
       "  -0.816677814951721,\n",
       "  -0.3396801531215125,\n",
       "  0.44086147532791964,\n",
       "  1.004585984763621,\n",
       "  1.2647665275800983])"
      ]
     },
     "execution_count": 2,
     "metadata": {},
     "output_type": "execute_result"
    }
   ],
   "source": [
    "import numpy as np\n",
    "\n",
    "X = [4.5, 6.2, 7.3, 9.1, 10.4, 11]\n",
    "\n",
    "mean_X = np.mean(X)\n",
    "\n",
    "std_X = np.std(X, ddof=0)\n",
    "\n",
    "z_scores = [(x - mean_X) / std_X for x in X]\n",
    "\n",
    "mean_X, std_X, z_scores\n"
   ]
  },
  {
   "cell_type": "markdown",
   "id": "faf517f5",
   "metadata": {},
   "source": [
    "# Section 2"
   ]
  },
  {
   "cell_type": "code",
   "execution_count": 1,
   "id": "9a130c8f",
   "metadata": {},
   "outputs": [],
   "source": [
    "import pandas as pd\n",
    "import numpy as np "
   ]
  },
  {
   "cell_type": "code",
   "execution_count": 4,
   "id": "1a1e30c5",
   "metadata": {},
   "outputs": [
    {
     "data": {
      "text/html": [
       "<div>\n",
       "<style scoped>\n",
       "    .dataframe tbody tr th:only-of-type {\n",
       "        vertical-align: middle;\n",
       "    }\n",
       "\n",
       "    .dataframe tbody tr th {\n",
       "        vertical-align: top;\n",
       "    }\n",
       "\n",
       "    .dataframe thead th {\n",
       "        text-align: right;\n",
       "    }\n",
       "</style>\n",
       "<table border=\"1\" class=\"dataframe\">\n",
       "  <thead>\n",
       "    <tr style=\"text-align: right;\">\n",
       "      <th></th>\n",
       "      <th>ID</th>\n",
       "      <th>Age</th>\n",
       "      <th>Experience</th>\n",
       "      <th>Income</th>\n",
       "      <th>ZIP Code</th>\n",
       "      <th>Family</th>\n",
       "      <th>CCAvg</th>\n",
       "      <th>Education</th>\n",
       "      <th>Mortgage</th>\n",
       "      <th>Personal Loan</th>\n",
       "      <th>Securities Account</th>\n",
       "      <th>CD Account</th>\n",
       "      <th>Online</th>\n",
       "      <th>CreditCard</th>\n",
       "    </tr>\n",
       "  </thead>\n",
       "  <tbody>\n",
       "    <tr>\n",
       "      <th>0</th>\n",
       "      <td>1</td>\n",
       "      <td>25</td>\n",
       "      <td>1</td>\n",
       "      <td>49</td>\n",
       "      <td>91107</td>\n",
       "      <td>4</td>\n",
       "      <td>1.6</td>\n",
       "      <td>1</td>\n",
       "      <td>0</td>\n",
       "      <td>0</td>\n",
       "      <td>1</td>\n",
       "      <td>0</td>\n",
       "      <td>0</td>\n",
       "      <td>0</td>\n",
       "    </tr>\n",
       "    <tr>\n",
       "      <th>1</th>\n",
       "      <td>2</td>\n",
       "      <td>45</td>\n",
       "      <td>19</td>\n",
       "      <td>34</td>\n",
       "      <td>90089</td>\n",
       "      <td>3</td>\n",
       "      <td>1.5</td>\n",
       "      <td>1</td>\n",
       "      <td>0</td>\n",
       "      <td>0</td>\n",
       "      <td>1</td>\n",
       "      <td>0</td>\n",
       "      <td>0</td>\n",
       "      <td>0</td>\n",
       "    </tr>\n",
       "    <tr>\n",
       "      <th>2</th>\n",
       "      <td>3</td>\n",
       "      <td>39</td>\n",
       "      <td>15</td>\n",
       "      <td>11</td>\n",
       "      <td>94720</td>\n",
       "      <td>1</td>\n",
       "      <td>1.0</td>\n",
       "      <td>1</td>\n",
       "      <td>0</td>\n",
       "      <td>0</td>\n",
       "      <td>0</td>\n",
       "      <td>0</td>\n",
       "      <td>0</td>\n",
       "      <td>0</td>\n",
       "    </tr>\n",
       "    <tr>\n",
       "      <th>3</th>\n",
       "      <td>4</td>\n",
       "      <td>35</td>\n",
       "      <td>9</td>\n",
       "      <td>100</td>\n",
       "      <td>94112</td>\n",
       "      <td>1</td>\n",
       "      <td>2.7</td>\n",
       "      <td>2</td>\n",
       "      <td>0</td>\n",
       "      <td>0</td>\n",
       "      <td>0</td>\n",
       "      <td>0</td>\n",
       "      <td>0</td>\n",
       "      <td>0</td>\n",
       "    </tr>\n",
       "    <tr>\n",
       "      <th>4</th>\n",
       "      <td>5</td>\n",
       "      <td>35</td>\n",
       "      <td>8</td>\n",
       "      <td>45</td>\n",
       "      <td>91330</td>\n",
       "      <td>4</td>\n",
       "      <td>1.0</td>\n",
       "      <td>2</td>\n",
       "      <td>0</td>\n",
       "      <td>0</td>\n",
       "      <td>0</td>\n",
       "      <td>0</td>\n",
       "      <td>0</td>\n",
       "      <td>1</td>\n",
       "    </tr>\n",
       "    <tr>\n",
       "      <th>5</th>\n",
       "      <td>6</td>\n",
       "      <td>37</td>\n",
       "      <td>13</td>\n",
       "      <td>29</td>\n",
       "      <td>92121</td>\n",
       "      <td>4</td>\n",
       "      <td>0.4</td>\n",
       "      <td>2</td>\n",
       "      <td>155</td>\n",
       "      <td>0</td>\n",
       "      <td>0</td>\n",
       "      <td>0</td>\n",
       "      <td>1</td>\n",
       "      <td>0</td>\n",
       "    </tr>\n",
       "    <tr>\n",
       "      <th>6</th>\n",
       "      <td>7</td>\n",
       "      <td>53</td>\n",
       "      <td>27</td>\n",
       "      <td>72</td>\n",
       "      <td>91711</td>\n",
       "      <td>2</td>\n",
       "      <td>1.5</td>\n",
       "      <td>2</td>\n",
       "      <td>0</td>\n",
       "      <td>0</td>\n",
       "      <td>0</td>\n",
       "      <td>0</td>\n",
       "      <td>1</td>\n",
       "      <td>0</td>\n",
       "    </tr>\n",
       "    <tr>\n",
       "      <th>7</th>\n",
       "      <td>8</td>\n",
       "      <td>50</td>\n",
       "      <td>24</td>\n",
       "      <td>22</td>\n",
       "      <td>93943</td>\n",
       "      <td>1</td>\n",
       "      <td>0.3</td>\n",
       "      <td>3</td>\n",
       "      <td>0</td>\n",
       "      <td>0</td>\n",
       "      <td>0</td>\n",
       "      <td>0</td>\n",
       "      <td>0</td>\n",
       "      <td>1</td>\n",
       "    </tr>\n",
       "    <tr>\n",
       "      <th>8</th>\n",
       "      <td>9</td>\n",
       "      <td>35</td>\n",
       "      <td>10</td>\n",
       "      <td>81</td>\n",
       "      <td>90089</td>\n",
       "      <td>3</td>\n",
       "      <td>0.6</td>\n",
       "      <td>2</td>\n",
       "      <td>104</td>\n",
       "      <td>0</td>\n",
       "      <td>0</td>\n",
       "      <td>0</td>\n",
       "      <td>1</td>\n",
       "      <td>0</td>\n",
       "    </tr>\n",
       "    <tr>\n",
       "      <th>9</th>\n",
       "      <td>10</td>\n",
       "      <td>34</td>\n",
       "      <td>9</td>\n",
       "      <td>180</td>\n",
       "      <td>93023</td>\n",
       "      <td>1</td>\n",
       "      <td>8.9</td>\n",
       "      <td>3</td>\n",
       "      <td>0</td>\n",
       "      <td>1</td>\n",
       "      <td>0</td>\n",
       "      <td>0</td>\n",
       "      <td>0</td>\n",
       "      <td>0</td>\n",
       "    </tr>\n",
       "  </tbody>\n",
       "</table>\n",
       "</div>"
      ],
      "text/plain": [
       "   ID  Age  Experience  Income  ZIP Code  Family  CCAvg  Education  Mortgage  \\\n",
       "0   1   25           1      49     91107       4    1.6          1         0   \n",
       "1   2   45          19      34     90089       3    1.5          1         0   \n",
       "2   3   39          15      11     94720       1    1.0          1         0   \n",
       "3   4   35           9     100     94112       1    2.7          2         0   \n",
       "4   5   35           8      45     91330       4    1.0          2         0   \n",
       "5   6   37          13      29     92121       4    0.4          2       155   \n",
       "6   7   53          27      72     91711       2    1.5          2         0   \n",
       "7   8   50          24      22     93943       1    0.3          3         0   \n",
       "8   9   35          10      81     90089       3    0.6          2       104   \n",
       "9  10   34           9     180     93023       1    8.9          3         0   \n",
       "\n",
       "   Personal Loan  Securities Account  CD Account  Online  CreditCard  \n",
       "0              0                   1           0       0           0  \n",
       "1              0                   1           0       0           0  \n",
       "2              0                   0           0       0           0  \n",
       "3              0                   0           0       0           0  \n",
       "4              0                   0           0       0           1  \n",
       "5              0                   0           0       1           0  \n",
       "6              0                   0           0       1           0  \n",
       "7              0                   0           0       0           1  \n",
       "8              0                   0           0       1           0  \n",
       "9              1                   0           0       0           0  "
      ]
     },
     "execution_count": 4,
     "metadata": {},
     "output_type": "execute_result"
    }
   ],
   "source": [
    "df = pd.read_csv(r\"C:\\Users\\OMKAR UTTEKAR\\OneDrive\\Documents\\Bank Personal Loan Modelling.csv\")\n",
    "df.head(10)"
   ]
  },
  {
   "cell_type": "markdown",
   "id": "c3aae430",
   "metadata": {},
   "source": [
    "# 8. Give us the statistical summary for all the variables in the dataset.\n",
    "\n"
   ]
  },
  {
   "cell_type": "code",
   "execution_count": 5,
   "id": "f18822e8",
   "metadata": {},
   "outputs": [
    {
     "data": {
      "text/html": [
       "<div>\n",
       "<style scoped>\n",
       "    .dataframe tbody tr th:only-of-type {\n",
       "        vertical-align: middle;\n",
       "    }\n",
       "\n",
       "    .dataframe tbody tr th {\n",
       "        vertical-align: top;\n",
       "    }\n",
       "\n",
       "    .dataframe thead th {\n",
       "        text-align: right;\n",
       "    }\n",
       "</style>\n",
       "<table border=\"1\" class=\"dataframe\">\n",
       "  <thead>\n",
       "    <tr style=\"text-align: right;\">\n",
       "      <th></th>\n",
       "      <th>count</th>\n",
       "      <th>mean</th>\n",
       "      <th>std</th>\n",
       "      <th>min</th>\n",
       "      <th>25%</th>\n",
       "      <th>50%</th>\n",
       "      <th>75%</th>\n",
       "      <th>max</th>\n",
       "    </tr>\n",
       "  </thead>\n",
       "  <tbody>\n",
       "    <tr>\n",
       "      <th>ID</th>\n",
       "      <td>5000.0</td>\n",
       "      <td>2500.500000</td>\n",
       "      <td>1443.520003</td>\n",
       "      <td>1.0</td>\n",
       "      <td>1250.75</td>\n",
       "      <td>2500.5</td>\n",
       "      <td>3750.25</td>\n",
       "      <td>5000.0</td>\n",
       "    </tr>\n",
       "    <tr>\n",
       "      <th>Age</th>\n",
       "      <td>5000.0</td>\n",
       "      <td>45.338400</td>\n",
       "      <td>11.463166</td>\n",
       "      <td>23.0</td>\n",
       "      <td>35.00</td>\n",
       "      <td>45.0</td>\n",
       "      <td>55.00</td>\n",
       "      <td>67.0</td>\n",
       "    </tr>\n",
       "    <tr>\n",
       "      <th>Experience</th>\n",
       "      <td>5000.0</td>\n",
       "      <td>20.104600</td>\n",
       "      <td>11.467954</td>\n",
       "      <td>-3.0</td>\n",
       "      <td>10.00</td>\n",
       "      <td>20.0</td>\n",
       "      <td>30.00</td>\n",
       "      <td>43.0</td>\n",
       "    </tr>\n",
       "    <tr>\n",
       "      <th>Income</th>\n",
       "      <td>5000.0</td>\n",
       "      <td>73.774200</td>\n",
       "      <td>46.033729</td>\n",
       "      <td>8.0</td>\n",
       "      <td>39.00</td>\n",
       "      <td>64.0</td>\n",
       "      <td>98.00</td>\n",
       "      <td>224.0</td>\n",
       "    </tr>\n",
       "    <tr>\n",
       "      <th>ZIP Code</th>\n",
       "      <td>5000.0</td>\n",
       "      <td>93152.503000</td>\n",
       "      <td>2121.852197</td>\n",
       "      <td>9307.0</td>\n",
       "      <td>91911.00</td>\n",
       "      <td>93437.0</td>\n",
       "      <td>94608.00</td>\n",
       "      <td>96651.0</td>\n",
       "    </tr>\n",
       "    <tr>\n",
       "      <th>Family</th>\n",
       "      <td>5000.0</td>\n",
       "      <td>2.396400</td>\n",
       "      <td>1.147663</td>\n",
       "      <td>1.0</td>\n",
       "      <td>1.00</td>\n",
       "      <td>2.0</td>\n",
       "      <td>3.00</td>\n",
       "      <td>4.0</td>\n",
       "    </tr>\n",
       "    <tr>\n",
       "      <th>CCAvg</th>\n",
       "      <td>5000.0</td>\n",
       "      <td>1.937938</td>\n",
       "      <td>1.747659</td>\n",
       "      <td>0.0</td>\n",
       "      <td>0.70</td>\n",
       "      <td>1.5</td>\n",
       "      <td>2.50</td>\n",
       "      <td>10.0</td>\n",
       "    </tr>\n",
       "    <tr>\n",
       "      <th>Education</th>\n",
       "      <td>5000.0</td>\n",
       "      <td>1.881000</td>\n",
       "      <td>0.839869</td>\n",
       "      <td>1.0</td>\n",
       "      <td>1.00</td>\n",
       "      <td>2.0</td>\n",
       "      <td>3.00</td>\n",
       "      <td>3.0</td>\n",
       "    </tr>\n",
       "    <tr>\n",
       "      <th>Mortgage</th>\n",
       "      <td>5000.0</td>\n",
       "      <td>56.498800</td>\n",
       "      <td>101.713802</td>\n",
       "      <td>0.0</td>\n",
       "      <td>0.00</td>\n",
       "      <td>0.0</td>\n",
       "      <td>101.00</td>\n",
       "      <td>635.0</td>\n",
       "    </tr>\n",
       "    <tr>\n",
       "      <th>Personal Loan</th>\n",
       "      <td>5000.0</td>\n",
       "      <td>0.096000</td>\n",
       "      <td>0.294621</td>\n",
       "      <td>0.0</td>\n",
       "      <td>0.00</td>\n",
       "      <td>0.0</td>\n",
       "      <td>0.00</td>\n",
       "      <td>1.0</td>\n",
       "    </tr>\n",
       "    <tr>\n",
       "      <th>Securities Account</th>\n",
       "      <td>5000.0</td>\n",
       "      <td>0.104400</td>\n",
       "      <td>0.305809</td>\n",
       "      <td>0.0</td>\n",
       "      <td>0.00</td>\n",
       "      <td>0.0</td>\n",
       "      <td>0.00</td>\n",
       "      <td>1.0</td>\n",
       "    </tr>\n",
       "    <tr>\n",
       "      <th>CD Account</th>\n",
       "      <td>5000.0</td>\n",
       "      <td>0.060400</td>\n",
       "      <td>0.238250</td>\n",
       "      <td>0.0</td>\n",
       "      <td>0.00</td>\n",
       "      <td>0.0</td>\n",
       "      <td>0.00</td>\n",
       "      <td>1.0</td>\n",
       "    </tr>\n",
       "    <tr>\n",
       "      <th>Online</th>\n",
       "      <td>5000.0</td>\n",
       "      <td>0.596800</td>\n",
       "      <td>0.490589</td>\n",
       "      <td>0.0</td>\n",
       "      <td>0.00</td>\n",
       "      <td>1.0</td>\n",
       "      <td>1.00</td>\n",
       "      <td>1.0</td>\n",
       "    </tr>\n",
       "    <tr>\n",
       "      <th>CreditCard</th>\n",
       "      <td>5000.0</td>\n",
       "      <td>0.294000</td>\n",
       "      <td>0.455637</td>\n",
       "      <td>0.0</td>\n",
       "      <td>0.00</td>\n",
       "      <td>0.0</td>\n",
       "      <td>1.00</td>\n",
       "      <td>1.0</td>\n",
       "    </tr>\n",
       "  </tbody>\n",
       "</table>\n",
       "</div>"
      ],
      "text/plain": [
       "                     count          mean          std     min       25%  \\\n",
       "ID                  5000.0   2500.500000  1443.520003     1.0   1250.75   \n",
       "Age                 5000.0     45.338400    11.463166    23.0     35.00   \n",
       "Experience          5000.0     20.104600    11.467954    -3.0     10.00   \n",
       "Income              5000.0     73.774200    46.033729     8.0     39.00   \n",
       "ZIP Code            5000.0  93152.503000  2121.852197  9307.0  91911.00   \n",
       "Family              5000.0      2.396400     1.147663     1.0      1.00   \n",
       "CCAvg               5000.0      1.937938     1.747659     0.0      0.70   \n",
       "Education           5000.0      1.881000     0.839869     1.0      1.00   \n",
       "Mortgage            5000.0     56.498800   101.713802     0.0      0.00   \n",
       "Personal Loan       5000.0      0.096000     0.294621     0.0      0.00   \n",
       "Securities Account  5000.0      0.104400     0.305809     0.0      0.00   \n",
       "CD Account          5000.0      0.060400     0.238250     0.0      0.00   \n",
       "Online              5000.0      0.596800     0.490589     0.0      0.00   \n",
       "CreditCard          5000.0      0.294000     0.455637     0.0      0.00   \n",
       "\n",
       "                        50%       75%      max  \n",
       "ID                   2500.5   3750.25   5000.0  \n",
       "Age                    45.0     55.00     67.0  \n",
       "Experience             20.0     30.00     43.0  \n",
       "Income                 64.0     98.00    224.0  \n",
       "ZIP Code            93437.0  94608.00  96651.0  \n",
       "Family                  2.0      3.00      4.0  \n",
       "CCAvg                   1.5      2.50     10.0  \n",
       "Education               2.0      3.00      3.0  \n",
       "Mortgage                0.0    101.00    635.0  \n",
       "Personal Loan           0.0      0.00      1.0  \n",
       "Securities Account      0.0      0.00      1.0  \n",
       "CD Account              0.0      0.00      1.0  \n",
       "Online                  1.0      1.00      1.0  \n",
       "CreditCard              0.0      1.00      1.0  "
      ]
     },
     "execution_count": 5,
     "metadata": {},
     "output_type": "execute_result"
    }
   ],
   "source": [
    "df.describe().T"
   ]
  },
  {
   "cell_type": "markdown",
   "id": "9480b645",
   "metadata": {},
   "source": [
    "# 9. Evaluate the measures of central tendency and measures of dispersion for all the quantitative variables in the dataset.\n",
    "\n"
   ]
  },
  {
   "cell_type": "code",
   "execution_count": 11,
   "id": "05fbf888",
   "metadata": {},
   "outputs": [
    {
     "data": {
      "text/plain": [
       "{'ID': {'mean': 2500.5,\n",
       "  'median': 2500.5,\n",
       "  'mode': 1,\n",
       "  'variance': 2083750.0,\n",
       "  'std_dev': 1443.5200033252052,\n",
       "  'range': 4999,\n",
       "  'IQR': 2499.5},\n",
       " 'Age': {'mean': 45.3384,\n",
       "  'median': 45.0,\n",
       "  'mode': 35,\n",
       "  'variance': 131.4041662732552,\n",
       "  'std_dev': 11.463165630542692,\n",
       "  'range': 44,\n",
       "  'IQR': 20.0},\n",
       " 'Experience': {'mean': 20.1046,\n",
       "  'median': 20.0,\n",
       "  'mode': 32,\n",
       "  'variance': 131.51396163232684,\n",
       "  'std_dev': 11.467953681120571,\n",
       "  'range': 46,\n",
       "  'IQR': 20.0},\n",
       " 'Income': {'mean': 73.7742,\n",
       "  'median': 64.0,\n",
       "  'mode': 44,\n",
       "  'variance': 2119.1042352070435,\n",
       "  'std_dev': 46.033729321086334,\n",
       "  'range': 216,\n",
       "  'IQR': 59.0},\n",
       " 'ZIP Code': {'mean': 93152.503,\n",
       "  'median': 93437.0,\n",
       "  'mode': 94720,\n",
       "  'variance': 4502256.747340505,\n",
       "  'std_dev': 2121.8521973362103,\n",
       "  'range': 87344,\n",
       "  'IQR': 2697.0},\n",
       " 'Family': {'mean': 2.3964,\n",
       "  'median': 2.0,\n",
       "  'mode': 1,\n",
       "  'variance': 1.3171304660932164,\n",
       "  'std_dev': 1.1476630455378514,\n",
       "  'range': 3,\n",
       "  'IQR': 2.0},\n",
       " 'CCAvg': {'mean': 1.9379380000000002,\n",
       "  'median': 1.5,\n",
       "  'mode': 0.3,\n",
       "  'variance': 3.0543119105381247,\n",
       "  'std_dev': 1.7476589800467723,\n",
       "  'range': 10.0,\n",
       "  'IQR': 1.8},\n",
       " 'Education': {'mean': 1.881,\n",
       "  'median': 2.0,\n",
       "  'mode': 1,\n",
       "  'variance': 0.7053800760151503,\n",
       "  'std_dev': 0.8398690826641675,\n",
       "  'range': 2,\n",
       "  'IQR': 2.0},\n",
       " 'Mortgage': {'mean': 56.4988,\n",
       "  'median': 0.0,\n",
       "  'mode': 0,\n",
       "  'variance': 10345.697538066994,\n",
       "  'std_dev': 101.713802102109,\n",
       "  'range': 635,\n",
       "  'IQR': 101.0},\n",
       " 'Personal Loan': {'mean': 0.096,\n",
       "  'median': 0.0,\n",
       "  'mode': 0,\n",
       "  'variance': 0.08680136027204756,\n",
       "  'std_dev': 0.29462070577616833,\n",
       "  'range': 1,\n",
       "  'IQR': 0.0},\n",
       " 'Securities Account': {'mean': 0.1044,\n",
       "  'median': 0.0,\n",
       "  'mode': 0,\n",
       "  'variance': 0.09351934386877106,\n",
       "  'std_dev': 0.30580932600032174,\n",
       "  'range': 1,\n",
       "  'IQR': 0.0},\n",
       " 'CD Account': {'mean': 0.0604,\n",
       "  'median': 0.0,\n",
       "  'mode': 0,\n",
       "  'variance': 0.05676319263853322,\n",
       "  'std_dev': 0.2382502731132395,\n",
       "  'range': 1,\n",
       "  'IQR': 0.0},\n",
       " 'Online': {'mean': 0.5968,\n",
       "  'median': 1.0,\n",
       "  'mode': 1,\n",
       "  'variance': 0.24067789557911035,\n",
       "  'std_dev': 0.49058933496266544,\n",
       "  'range': 1,\n",
       "  'IQR': 1.0},\n",
       " 'CreditCard': {'mean': 0.294,\n",
       "  'median': 0.0,\n",
       "  'mode': 0,\n",
       "  'variance': 0.20760552110423408,\n",
       "  'std_dev': 0.45563748869494275,\n",
       "  'range': 1,\n",
       "  'IQR': 1.0}}"
      ]
     },
     "execution_count": 11,
     "metadata": {},
     "output_type": "execute_result"
    }
   ],
   "source": [
    "\n",
    "quantitative_vars = df.select_dtypes(include=[np.number]).columns.tolist()\n",
    "quantitative_vars\n",
    "\n",
    "results = {}\n",
    "for var in quantitative_vars:\n",
    "    results[var] = {\n",
    "        'mean': df[var].mean(),\n",
    "        'median': df[var].median(),\n",
    "        'mode': df[var].mode()[0],\n",
    "        'variance': df[var].var(),\n",
    "        'std_dev': df[var].std(),\n",
    "        'range': df[var].max() - df[var].min(),\n",
    "        'IQR': df[var].quantile(0.75) - df[var].quantile(0.25)\n",
    "    }\n",
    "\n",
    "results\n"
   ]
  },
  {
   "cell_type": "markdown",
   "id": "68695a64",
   "metadata": {},
   "source": [
    "# 10. What statistical method will you use to examine the presence of a linear relationship between age and experience variables?Also, create a plot to illustrate this relationship."
   ]
  },
  {
   "cell_type": "code",
   "execution_count": 10,
   "id": "d142fc5a",
   "metadata": {},
   "outputs": [
    {
     "data": {
      "text/plain": [
       "0.9942148569683317"
      ]
     },
     "execution_count": 10,
     "metadata": {},
     "output_type": "execute_result"
    },
    {
     "data": {
      "image/png": "[encoded data removed]",
      "text/plain": [
       "<Figure size 1000x600 with 1 Axes>"
      ]
     },
     "metadata": {},
     "output_type": "display_data"
    }
   ],
   "source": [
    "import matplotlib.pyplot as plt\n",
    "import seaborn as sns\n",
    "\n",
    "correlation_age_experience = df['Age'].corr(df['Experience'])\n",
    "\n",
    "plt.figure(figsize=(10,6))\n",
    "sns.scatterplot(data=df,x='Age',y='Experience')\n",
    "plt.title(\"Scatter plot of Age & Exprience\")\n",
    "\n",
    "correlation_age_experience"
   ]
  },
  {
   "cell_type": "markdown",
   "id": "751920a9",
   "metadata": {},
   "source": [
    "# 11. What is the most frequent family size observed in this dataset?"
   ]
  },
  {
   "cell_type": "code",
   "execution_count": 11,
   "id": "4845df50",
   "metadata": {},
   "outputs": [
    {
     "data": {
      "text/plain": [
       "0    1\n",
       "Name: Family, dtype: int64"
      ]
     },
     "execution_count": 11,
     "metadata": {},
     "output_type": "execute_result"
    }
   ],
   "source": [
    "most_frequent_family_size = df['Family'].mode([0])\n",
    "most_frequent_family_size"
   ]
  },
  {
   "cell_type": "markdown",
   "id": "cba1727b",
   "metadata": {},
   "source": [
    "   # 12. What is the percentage of variation you can observe in the ‘Income’variable?"
   ]
  },
  {
   "cell_type": "code",
   "execution_count": 12,
   "id": "6b93adf3",
   "metadata": {},
   "outputs": [
    {
     "data": {
      "text/plain": [
       "62.39814097758612"
      ]
     },
     "execution_count": 12,
     "metadata": {},
     "output_type": "execute_result"
    }
   ],
   "source": [
    "income_mean = df['Income'].mean()\n",
    "income_std = df['Income'].std()\n",
    "income_CV = (income_std / income_mean)*100\n",
    "\n",
    "income_CV"
   ]
  },
  {
   "cell_type": "markdown",
   "id": "4eb9dbd8",
   "metadata": {},
   "source": [
    "# 13. The ‘Mortgage’ variable has a lot of zeroes. Impute with some business logical value that you feel fit for the data."
   ]
  },
  {
   "cell_type": "code",
   "execution_count": 25,
   "id": "6585db42",
   "metadata": {},
   "outputs": [
    {
     "data": {
      "text/plain": [
       "count    5000.000000\n",
       "mean      162.436000\n",
       "std        57.959919\n",
       "min        75.000000\n",
       "25%       153.000000\n",
       "50%       153.000000\n",
       "75%       153.000000\n",
       "max       635.000000\n",
       "Name: Mortgage, dtype: float64"
      ]
     },
     "execution_count": 25,
     "metadata": {},
     "output_type": "execute_result"
    }
   ],
   "source": [
    "median_mortgage = df[df['Mortgage']>0]['Mortgage'].median()\n",
    "\n",
    "df['Mortgage'] = df['Mortgage'].replace(0,median_mortgage)\n",
    "df['Mortgage'].describe()"
   ]
  },
  {
   "cell_type": "markdown",
   "id": "dc596c67",
   "metadata": {},
   "source": [
    "# 14. Plot a density curve of the CCAvg variable for the customers who possess credit cards and write an interpretation about its      distribution."
   ]
  },
  {
   "cell_type": "code",
   "execution_count": 13,
   "id": "d42bd753",
   "metadata": {},
   "outputs": [
    {
     "data": {
      "image/png": "[encoded data removed]",
      "text/plain": [
       "<Figure size 1000x600 with 1 Axes>"
      ]
     },
     "metadata": {},
     "output_type": "display_data"
    }
   ],
   "source": [
    "import matplotlib.pyplot as plt\n",
    "import seaborn as sns\n",
    "\n",
    "cc_customers = df[df['CreditCard']==1]\n",
    "\n",
    "plt.figure(figsize=(10,6))\n",
    "sns.kdeplot(cc_customers['CCAvg'],fill= True,color = 'purple')\n",
    "plt.title('Density Curve of CCAvg for Customers with Credit Cards')\n",
    "\n",
    "plt.show()"
   ]
  },
  {
   "cell_type": "markdown",
   "id": "03373d4e",
   "metadata": {},
   "source": [
    "# 15. Do you see any outliers in the dataset? If yes, what plot you would think will be suitable to showcase to the stakeholders?"
   ]
  },
  {
   "cell_type": "code",
   "execution_count": 18,
   "id": "5b8e29e0",
   "metadata": {},
   "outputs": [
    {
     "data": {
      "image/png": "[encoded data removed]",
      "text/plain": [
       "<Figure size 1500x1000 with 1 Axes>"
      ]
     },
     "metadata": {},
     "output_type": "display_data"
    }
   ],
   "source": [
    "plt.figure(figsize=(15,10))\n",
    "df[['Age','Experience','Income','CCAvg','Mortgage']].boxplot()\n",
    "plt.title('Box plots for Continous Variables')\n",
    "plt.show()"
   ]
  },
  {
   "cell_type": "markdown",
   "id": "d0470ecf",
   "metadata": {},
   "source": [
    "# 16. Give us the decile values of the variable ‘Income’ in the dataset."
   ]
  },
  {
   "cell_type": "code",
   "execution_count": 19,
   "id": "b8d3f89b",
   "metadata": {},
   "outputs": [
    {
     "data": {
      "text/plain": [
       "0.1     22.0\n",
       "0.2     33.0\n",
       "0.3     42.0\n",
       "0.4     52.0\n",
       "0.5     64.0\n",
       "0.6     78.0\n",
       "0.7     88.3\n",
       "0.8    113.0\n",
       "0.9    145.0\n",
       "Name: Income, dtype: float64"
      ]
     },
     "execution_count": 19,
     "metadata": {},
     "output_type": "execute_result"
    }
   ],
   "source": [
    "income_deciles = df['Income'].quantile([i/10 for i in range (1,10)])\n",
    "income_deciles"
   ]
  },
  {
   "cell_type": "markdown",
   "id": "f19f32a8",
   "metadata": {},
   "source": [
    " # 17. Give the IQR of all the variables which are quantitative and continuous."
   ]
  },
  {
   "cell_type": "code",
   "execution_count": 5,
   "id": "402d4d9f",
   "metadata": {},
   "outputs": [
    {
     "data": {
      "text/plain": [
       "Age            20.0\n",
       "Experience     20.0\n",
       "Income         59.0\n",
       "CCAvg           1.8\n",
       "Mortgage      101.0\n",
       "dtype: float64"
      ]
     },
     "execution_count": 5,
     "metadata": {},
     "output_type": "execute_result"
    }
   ],
   "source": [
    "# Calculate IQR for quantitative and continuous variables\n",
    "quantitative_continuous_vars = ['Age', 'Experience', 'Income', 'CCAvg', 'Mortgage']\n",
    "iqr_values = df[quantitative_continuous_vars].apply(lambda x: x.quantile(0.75) - x.quantile(0.25))\n",
    "iqr_values\n"
   ]
  },
  {
   "cell_type": "markdown",
   "id": "2fb45a10",
   "metadata": {},
   "source": [
    "# 18. Do the higher-income holders spend more on credit cards?"
   ]
  },
  {
   "cell_type": "code",
   "execution_count": 21,
   "id": "caf027fc",
   "metadata": {},
   "outputs": [
    {
     "data": {
      "image/png": "[encoded data removed]",
      "text/plain": [
       "<Figure size 1000x600 with 1 Axes>"
      ]
     },
     "metadata": {},
     "output_type": "display_data"
    },
    {
     "data": {
      "text/plain": [
       "0.6459836696249657"
      ]
     },
     "execution_count": 21,
     "metadata": {},
     "output_type": "execute_result"
    }
   ],
   "source": [
    "plt.figure(figsize=(10,6))\n",
    "plt.scatter(df['Income'],df['CCAvg'])\n",
    "plt.title('Income Vs Credit Card Average Spend')\n",
    "plt.show()\n",
    "\n",
    "correlation = df['Income'].corr(df['CCAvg'])\n",
    "correlation"
   ]
  },
  {
   "cell_type": "markdown",
   "id": "e9e23925",
   "metadata": {},
   "source": [
    "# 19. How many customers use online banking? Do customers using bank internet facilities have higher incomes?\n",
    "\n"
   ]
  },
  {
   "cell_type": "code",
   "execution_count": 23,
   "id": "6595665d",
   "metadata": {},
   "outputs": [
    {
     "data": {
      "text/plain": [
       "(2984,\n",
       " Online\n",
       " 0    72.978671\n",
       " 1    74.311662\n",
       " Name: Income, dtype: float64)"
      ]
     },
     "execution_count": 23,
     "metadata": {},
     "output_type": "execute_result"
    }
   ],
   "source": [
    "online_banking_customers = df['Online'].sum()\n",
    "\n",
    "online_comparison = df.groupby('Online')['Income'].mean()\n",
    "online_banking_customers, online_comparison"
   ]
  },
  {
   "cell_type": "markdown",
   "id": "651aff8b",
   "metadata": {},
   "source": [
    "# 20. Using the z-score of the income variable, find out the number of observations outside the +-3σ.\n",
    "\n"
   ]
  },
  {
   "cell_type": "code",
   "execution_count": 24,
   "id": "7d9a8ef3",
   "metadata": {},
   "outputs": [
    {
     "data": {
      "text/plain": [
       "2"
      ]
     },
     "execution_count": 24,
     "metadata": {},
     "output_type": "execute_result"
    }
   ],
   "source": [
    "from scipy.stats import zscore\n",
    "\n",
    "df['Income_zscore'] = zscore(df['Income'])\n",
    "\n",
    "outliers = df[(df['Income_zscore']> 3) | (df['Income_zscore']<-3)]\n",
    "num_outliers = outliers.shape[0]\n",
    "num_outliers"
   ]
  }
 ],
 "metadata": {
  "kernelspec": {
   "display_name": "Python 3 (ipykernel)",
   "language": "python",
   "name": "python3"
  },
  "language_info": {
   "codemirror_mode": {
    "name": "ipython",
    "version": 3
   },
   "file_extension": ".py",
   "mimetype": "text/x-python",
   "name": "python",
   "nbconvert_exporter": "python",
   "pygments_lexer": "ipython3",
   "version": "3.11.5"
  }
 },
 "nbformat": 4,
 "nbformat_minor": 5
}
